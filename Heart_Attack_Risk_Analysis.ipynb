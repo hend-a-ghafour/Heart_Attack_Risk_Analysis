{
 "cells": [
  {
   "cell_type": "code",
   "execution_count": 2,
   "id": "279f78cb-7dbb-44b2-be28-10ca3ca84746",
   "metadata": {},
   "outputs": [],
   "source": [
    "# Importing Liberaries:\n",
    "import pandas as pd \n",
    "import numpy as np \n",
    "import seaborn as sns\n",
    "import matplotlib as plt\n",
    "%matplotlib inline "
   ]
  },
  {
   "cell_type": "code",
   "execution_count": 3,
   "id": "ee4f951c-36e1-4c01-8342-51aea9d08b00",
   "metadata": {},
   "outputs": [],
   "source": [
    "# Loading Dataset\n",
    "df= pd.read_csv('heart_attack_risk_analysis.csv')"
   ]
  },
  {
   "cell_type": "markdown",
   "id": "c263bd5b-7acc-4ee5-8f85-a8c99b430461",
   "metadata": {},
   "source": [
    "# 1- Data Assessing:"
   ]
  },
  {
   "cell_type": "code",
   "execution_count": 5,
   "id": "87dead27-1478-41e3-a1ca-af631fa49426",
   "metadata": {
    "jupyter": {
     "source_hidden": true
    }
   },
   "outputs": [
    {
     "data": {
      "text/html": [
       "<div>\n",
       "<style scoped>\n",
       "    .dataframe tbody tr th:only-of-type {\n",
       "        vertical-align: middle;\n",
       "    }\n",
       "\n",
       "    .dataframe tbody tr th {\n",
       "        vertical-align: top;\n",
       "    }\n",
       "\n",
       "    .dataframe thead th {\n",
       "        text-align: right;\n",
       "    }\n",
       "</style>\n",
       "<table border=\"1\" class=\"dataframe\">\n",
       "  <thead>\n",
       "    <tr style=\"text-align: right;\">\n",
       "      <th></th>\n",
       "      <th>Patient ID</th>\n",
       "      <th>Age</th>\n",
       "      <th>Sex</th>\n",
       "      <th>Cholesterol</th>\n",
       "      <th>Blood Pressure</th>\n",
       "      <th>Heart Rate</th>\n",
       "      <th>Diabetes</th>\n",
       "      <th>Family History</th>\n",
       "      <th>Smoking</th>\n",
       "      <th>Obesity</th>\n",
       "      <th>Alcohol Consumption</th>\n",
       "      <th>Exercise Hours Per Week</th>\n",
       "      <th>Diet</th>\n",
       "      <th>Previous Heart Problems</th>\n",
       "      <th>Medication Use</th>\n",
       "    </tr>\n",
       "  </thead>\n",
       "  <tbody>\n",
       "    <tr>\n",
       "      <th>0</th>\n",
       "      <td>RDG0550</td>\n",
       "      <td>33</td>\n",
       "      <td>Male</td>\n",
       "      <td>200</td>\n",
       "      <td>129/90</td>\n",
       "      <td>48</td>\n",
       "      <td>0</td>\n",
       "      <td>1</td>\n",
       "      <td>1</td>\n",
       "      <td>1</td>\n",
       "      <td>1</td>\n",
       "      <td>7.807690</td>\n",
       "      <td>Unhealthy</td>\n",
       "      <td>0</td>\n",
       "      <td>1</td>\n",
       "    </tr>\n",
       "    <tr>\n",
       "      <th>1</th>\n",
       "      <td>NMA3851</td>\n",
       "      <td>56</td>\n",
       "      <td>Female</td>\n",
       "      <td>262</td>\n",
       "      <td>159/105</td>\n",
       "      <td>46</td>\n",
       "      <td>1</td>\n",
       "      <td>0</td>\n",
       "      <td>1</td>\n",
       "      <td>0</td>\n",
       "      <td>0</td>\n",
       "      <td>17.297628</td>\n",
       "      <td>Average</td>\n",
       "      <td>1</td>\n",
       "      <td>0</td>\n",
       "    </tr>\n",
       "    <tr>\n",
       "      <th>2</th>\n",
       "      <td>TUI5807</td>\n",
       "      <td>19</td>\n",
       "      <td>Female</td>\n",
       "      <td>140</td>\n",
       "      <td>161/109</td>\n",
       "      <td>54</td>\n",
       "      <td>0</td>\n",
       "      <td>1</td>\n",
       "      <td>0</td>\n",
       "      <td>0</td>\n",
       "      <td>1</td>\n",
       "      <td>8.695288</td>\n",
       "      <td>Average</td>\n",
       "      <td>1</td>\n",
       "      <td>1</td>\n",
       "    </tr>\n",
       "    <tr>\n",
       "      <th>3</th>\n",
       "      <td>YYT5016</td>\n",
       "      <td>50</td>\n",
       "      <td>Female</td>\n",
       "      <td>163</td>\n",
       "      <td>120/62</td>\n",
       "      <td>53</td>\n",
       "      <td>0</td>\n",
       "      <td>1</td>\n",
       "      <td>1</td>\n",
       "      <td>1</td>\n",
       "      <td>1</td>\n",
       "      <td>10.161587</td>\n",
       "      <td>Healthy</td>\n",
       "      <td>0</td>\n",
       "      <td>1</td>\n",
       "    </tr>\n",
       "    <tr>\n",
       "      <th>4</th>\n",
       "      <td>ZAC5937</td>\n",
       "      <td>89</td>\n",
       "      <td>Female</td>\n",
       "      <td>144</td>\n",
       "      <td>153/110</td>\n",
       "      <td>92</td>\n",
       "      <td>1</td>\n",
       "      <td>0</td>\n",
       "      <td>1</td>\n",
       "      <td>0</td>\n",
       "      <td>1</td>\n",
       "      <td>16.436787</td>\n",
       "      <td>Healthy</td>\n",
       "      <td>1</td>\n",
       "      <td>0</td>\n",
       "    </tr>\n",
       "  </tbody>\n",
       "</table>\n",
       "</div>"
      ],
      "text/plain": [
       "  Patient ID  Age     Sex  Cholesterol Blood Pressure  Heart Rate  Diabetes  \\\n",
       "0    RDG0550   33    Male          200         129/90          48         0   \n",
       "1    NMA3851   56  Female          262        159/105          46         1   \n",
       "2    TUI5807   19  Female          140        161/109          54         0   \n",
       "3    YYT5016   50  Female          163         120/62          53         0   \n",
       "4    ZAC5937   89  Female          144        153/110          92         1   \n",
       "\n",
       "   Family History  Smoking  Obesity  Alcohol Consumption  \\\n",
       "0               1        1        1                    1   \n",
       "1               0        1        0                    0   \n",
       "2               1        0        0                    1   \n",
       "3               1        1        1                    1   \n",
       "4               0        1        0                    1   \n",
       "\n",
       "   Exercise Hours Per Week       Diet  Previous Heart Problems  Medication Use  \n",
       "0                 7.807690  Unhealthy                        0               1  \n",
       "1                17.297628    Average                        1               0  \n",
       "2                 8.695288    Average                        1               1  \n",
       "3                10.161587    Healthy                        0               1  \n",
       "4                16.436787    Healthy                        1               0  "
      ]
     },
     "execution_count": 5,
     "metadata": {},
     "output_type": "execute_result"
    }
   ],
   "source": [
    "#Loading a sample of the 1st 15 coulmns:\n",
    "df.head().iloc[:,:15]"
   ]
  },
  {
   "cell_type": "code",
   "execution_count": 6,
   "id": "b8dc0484-4133-4c1b-80f5-c58f650c80fb",
   "metadata": {
    "jupyter": {
     "source_hidden": true
    }
   },
   "outputs": [
    {
     "data": {
      "text/html": [
       "<div>\n",
       "<style scoped>\n",
       "    .dataframe tbody tr th:only-of-type {\n",
       "        vertical-align: middle;\n",
       "    }\n",
       "\n",
       "    .dataframe tbody tr th {\n",
       "        vertical-align: top;\n",
       "    }\n",
       "\n",
       "    .dataframe thead th {\n",
       "        text-align: right;\n",
       "    }\n",
       "</style>\n",
       "<table border=\"1\" class=\"dataframe\">\n",
       "  <thead>\n",
       "    <tr style=\"text-align: right;\">\n",
       "      <th></th>\n",
       "      <th>Stress Level</th>\n",
       "      <th>Sedentary Hours Per Day</th>\n",
       "      <th>Income</th>\n",
       "      <th>BMI</th>\n",
       "      <th>Triglycerides</th>\n",
       "      <th>Physical Activity Days Per Week</th>\n",
       "      <th>Sleep Hours Per Day</th>\n",
       "      <th>Country</th>\n",
       "      <th>Continent</th>\n",
       "      <th>Hemisphere</th>\n",
       "      <th>Heart Attack Risk</th>\n",
       "    </tr>\n",
       "  </thead>\n",
       "  <tbody>\n",
       "    <tr>\n",
       "      <th>0</th>\n",
       "      <td>2</td>\n",
       "      <td>0.138443</td>\n",
       "      <td>184066</td>\n",
       "      <td>30.449815</td>\n",
       "      <td>63</td>\n",
       "      <td>6</td>\n",
       "      <td>7</td>\n",
       "      <td>Argentina</td>\n",
       "      <td>South America</td>\n",
       "      <td>Southern Hemisphere</td>\n",
       "      <td>1</td>\n",
       "    </tr>\n",
       "    <tr>\n",
       "      <th>1</th>\n",
       "      <td>8</td>\n",
       "      <td>0.369552</td>\n",
       "      <td>211755</td>\n",
       "      <td>34.973685</td>\n",
       "      <td>333</td>\n",
       "      <td>7</td>\n",
       "      <td>8</td>\n",
       "      <td>Nigeria</td>\n",
       "      <td>Africa</td>\n",
       "      <td>Northern Hemisphere</td>\n",
       "      <td>1</td>\n",
       "    </tr>\n",
       "    <tr>\n",
       "      <th>2</th>\n",
       "      <td>3</td>\n",
       "      <td>8.646334</td>\n",
       "      <td>252203</td>\n",
       "      <td>30.554246</td>\n",
       "      <td>537</td>\n",
       "      <td>2</td>\n",
       "      <td>10</td>\n",
       "      <td>Thailand</td>\n",
       "      <td>Asia</td>\n",
       "      <td>Northern Hemisphere</td>\n",
       "      <td>0</td>\n",
       "    </tr>\n",
       "    <tr>\n",
       "      <th>3</th>\n",
       "      <td>7</td>\n",
       "      <td>1.107884</td>\n",
       "      <td>121954</td>\n",
       "      <td>35.390265</td>\n",
       "      <td>591</td>\n",
       "      <td>0</td>\n",
       "      <td>9</td>\n",
       "      <td>Spain</td>\n",
       "      <td>Europe</td>\n",
       "      <td>Southern Hemisphere</td>\n",
       "      <td>1</td>\n",
       "    </tr>\n",
       "    <tr>\n",
       "      <th>4</th>\n",
       "      <td>1</td>\n",
       "      <td>1.337570</td>\n",
       "      <td>180121</td>\n",
       "      <td>39.575483</td>\n",
       "      <td>145</td>\n",
       "      <td>2</td>\n",
       "      <td>5</td>\n",
       "      <td>Germany</td>\n",
       "      <td>Europe</td>\n",
       "      <td>Northern Hemisphere</td>\n",
       "      <td>1</td>\n",
       "    </tr>\n",
       "  </tbody>\n",
       "</table>\n",
       "</div>"
      ],
      "text/plain": [
       "   Stress Level  Sedentary Hours Per Day  Income        BMI  Triglycerides  \\\n",
       "0             2                 0.138443  184066  30.449815             63   \n",
       "1             8                 0.369552  211755  34.973685            333   \n",
       "2             3                 8.646334  252203  30.554246            537   \n",
       "3             7                 1.107884  121954  35.390265            591   \n",
       "4             1                 1.337570  180121  39.575483            145   \n",
       "\n",
       "   Physical Activity Days Per Week  Sleep Hours Per Day    Country  \\\n",
       "0                                6                    7  Argentina   \n",
       "1                                7                    8    Nigeria   \n",
       "2                                2                   10   Thailand   \n",
       "3                                0                    9      Spain   \n",
       "4                                2                    5    Germany   \n",
       "\n",
       "       Continent           Hemisphere  Heart Attack Risk  \n",
       "0  South America  Southern Hemisphere                  1  \n",
       "1         Africa  Northern Hemisphere                  1  \n",
       "2           Asia  Northern Hemisphere                  0  \n",
       "3         Europe  Southern Hemisphere                  1  \n",
       "4         Europe  Northern Hemisphere                  1  "
      ]
     },
     "execution_count": 6,
     "metadata": {},
     "output_type": "execute_result"
    }
   ],
   "source": [
    "#Loading a sample of the last 15 coulmns:\n",
    "df.head().iloc[:,15:]"
   ]
  },
  {
   "cell_type": "code",
   "execution_count": 7,
   "id": "bd9681e0-df69-4953-9bd7-ad6110d3a9a3",
   "metadata": {
    "jupyter": {
     "source_hidden": true
    }
   },
   "outputs": [
    {
     "name": "stdout",
     "output_type": "stream",
     "text": [
      "<class 'pandas.core.frame.DataFrame'>\n",
      "RangeIndex: 7010 entries, 0 to 7009\n",
      "Data columns (total 26 columns):\n",
      " #   Column                           Non-Null Count  Dtype  \n",
      "---  ------                           --------------  -----  \n",
      " 0   Patient ID                       7010 non-null   object \n",
      " 1   Age                              7010 non-null   int64  \n",
      " 2   Sex                              7010 non-null   object \n",
      " 3   Cholesterol                      7010 non-null   int64  \n",
      " 4   Blood Pressure                   7010 non-null   object \n",
      " 5   Heart Rate                       7010 non-null   int64  \n",
      " 6   Diabetes                         7010 non-null   int64  \n",
      " 7   Family History                   7010 non-null   int64  \n",
      " 8   Smoking                          7010 non-null   int64  \n",
      " 9   Obesity                          7010 non-null   int64  \n",
      " 10  Alcohol Consumption              7010 non-null   int64  \n",
      " 11  Exercise Hours Per Week          7010 non-null   float64\n",
      " 12  Diet                             7010 non-null   object \n",
      " 13  Previous Heart Problems          7010 non-null   int64  \n",
      " 14  Medication Use                   7010 non-null   int64  \n",
      " 15  Stress Level                     7010 non-null   int64  \n",
      " 16  Sedentary Hours Per Day          7010 non-null   float64\n",
      " 17  Income                           7010 non-null   int64  \n",
      " 18  BMI                              7010 non-null   float64\n",
      " 19  Triglycerides                    7010 non-null   int64  \n",
      " 20  Physical Activity Days Per Week  7010 non-null   int64  \n",
      " 21  Sleep Hours Per Day              7010 non-null   int64  \n",
      " 22  Country                          7010 non-null   object \n",
      " 23  Continent                        7010 non-null   object \n",
      " 24  Hemisphere                       7010 non-null   object \n",
      " 25  Heart Attack Risk                7010 non-null   int64  \n",
      "dtypes: float64(3), int64(16), object(7)\n",
      "memory usage: 1.4+ MB\n",
      "None\n"
     ]
    }
   ],
   "source": [
    "print(df.info())\n"
   ]
  },
  {
   "cell_type": "code",
   "execution_count": 8,
   "id": "307d5806-5b45-45ea-ad13-a57666f300d4",
   "metadata": {
    "jupyter": {
     "source_hidden": true
    }
   },
   "outputs": [
    {
     "name": "stdout",
     "output_type": "stream",
     "text": [
      "General Charcteristics of the dataset:\n",
      "\n",
      "  - The dataset has a shape of : 7010 Rows and 26 Columns\n",
      "\n",
      "  - No NULL values in this dataset\n",
      "\n",
      "  - No Duplicates in this dataset\n",
      "\n"
     ]
    }
   ],
   "source": [
    "# General Charcteristics:\n",
    "print('General Charcteristics of the dataset:\\n')\n",
    "\n",
    "# Shape:\n",
    "print(f'  - The dataset has a shape of : {df.shape[0]} Rows and {df.shape[1]} Columns\\n')\n",
    "\n",
    "# Null Values:\n",
    "nulls= df.isna().sum().sum()\n",
    "if nulls == 0:\n",
    "    print('  - No NULL values in this dataset\\n')\n",
    "else:\n",
    "    print(f'  - This dataset contains {nulls} Null Values\\n')\n",
    "\n",
    "# Duplicates:\n",
    "duplicates = df.duplicated().sum()\n",
    "if duplicates == 0:\n",
    "    print('  - No Duplicates in this dataset\\n')\n",
    "else:\n",
    "    print(f'  - {duplicates} Rows are Duplicated\\n')"
   ]
  },
  {
   "cell_type": "code",
   "execution_count": 9,
   "id": "d5e44e9f-664a-4a3a-9b6c-1462e8363525",
   "metadata": {
    "jupyter": {
     "source_hidden": true
    }
   },
   "outputs": [
    {
     "name": "stdout",
     "output_type": "stream",
     "text": [
      "The number of unique value in each column:\n",
      "Patient ID                         7010\n",
      "Age                                  73\n",
      "Sex                                   2\n",
      "Cholesterol                         281\n",
      "Blood Pressure                     3590\n",
      "Heart Rate                           71\n",
      "Diabetes                              2\n",
      "Family History                        2\n",
      "Smoking                               2\n",
      "Obesity                               2\n",
      "Alcohol Consumption                   2\n",
      "Exercise Hours Per Week            7010\n",
      "Diet                                  3\n",
      "Previous Heart Problems               2\n",
      "Medication Use                        2\n",
      "Stress Level                         10\n",
      "Sedentary Hours Per Day            7010\n",
      "Income                             6921\n",
      "BMI                                7010\n",
      "Triglycerides                       771\n",
      "Physical Activity Days Per Week       8\n",
      "Sleep Hours Per Day                   7\n",
      "Country                              20\n",
      "Continent                             6\n",
      "Hemisphere                            2\n",
      "Heart Attack Risk                     2\n",
      "dtype: int64\n"
     ]
    }
   ],
   "source": [
    "# Number of unique values:\n",
    "print(f'The number of unique value in each column:\\n{df.nunique()}')"
   ]
  },
  {
   "cell_type": "code",
   "execution_count": 10,
   "id": "895fcd36-1636-45ba-b43b-72a322227f8b",
   "metadata": {},
   "outputs": [
    {
     "name": "stdout",
     "output_type": "stream",
     "text": [
      "Dataset Overview:\n",
      "- Total number of patients: 7010 Patient.\n",
      "\n",
      "- Ages are between 18 & 90 years.\n",
      "\n",
      "- Patients are classified into Males & Females.\n",
      "\n",
      "- Cholesterol Levels are between 120 mg/dL and 400 mg/dL.\n",
      "\n",
      "- Heart Rates are between 40 beats/min and 110 beats/min.\n",
      "\n",
      "- Non-Diabetic patients are classified as 0 & Daiabetic patients as 1.\n",
      "\n",
      "- Patients with No Family Related Hearts Problems are classified as 0 & those With Family Related Heart Problems as 1.\n",
      "\n",
      "- Non-Smokers are classified as 0 & Smokers as 1.\n",
      "\n",
      "- Not-Obese Patients are classified as 0 & Obese Patients as 1.\n",
      "\n",
      "- Patients' Alcohol consumption is classified into 1 as YES & 0 as NO.\n",
      "\n",
      "- Patients' Exercise Hours are between 0.0024 hrs/week & 19.9987 hrs/week.\n",
      "\n",
      "- Patients' Diets are clasified as Unhealthy, Average, & Healthy.\n",
      "\n",
      "- Patients' Previous Heart Problems are classified into 1 as YES & 0 as NO.\n",
      "\n",
      "- Patients' Medication Use is classified into 1 as YES & 0 as NO.\n",
      "\n",
      "- Patients' Stress levels are between 1 \"The Lowest\" & 10 \"The Highest\".\n",
      "\n",
      "- Patients' Sedentary Hours Per Day are between 0.0013 hrs/day & 11.9993 hrs/day.\n",
      "\n",
      "- Patients' Incomes are between 20062 & 299954.\n",
      "\n",
      "- Patients' Body Mass Indecies (BMI) are between 18.0023 & 39.9936.\n"
     ]
    }
   ],
   "source": [
    "# Overview:\n",
    "print('Dataset Overview:\\n- Total number of patients: {} Patient.'.format(df['Patient ID'].count()))\n",
    "print('\\n- Ages are between {} & {} years.'.format(df['Age'].min(),df['Age'].max()))\n",
    "print('\\n- Patients are classified into {}s & {}s.'.format(df['Sex'].unique()[0],df['Sex'].unique()[1]))\n",
    "print('\\n- Cholesterol Levels are between {} mg/dL and {} mg/dL.'.format(df['Cholesterol'].min(),df['Cholesterol'].max()))\n",
    "print('\\n- Heart Rates are between {} beats/min and {} beats/min.'.format(df['Heart Rate'].min(),df['Heart Rate'].max()))\n",
    "print('\\n- Non-Diabetic patients are classified as {} & Daiabetic patients as {}.'.format(df['Diabetes'].unique()[0],df['Diabetes'].unique()[1]))\n",
    "print('\\n- Patients with No Family Related Hearts Problems are classified as {} & those With Family Related Heart Problems as {}.'.format(df['Family History'].unique()[1],df['Family History'].unique()[0]))\n",
    "print('\\n- Non-Smokers are classified as {} & Smokers as {}.'.format(df['Smoking'].unique()[1],df['Smoking'].unique()[0]))\n",
    "print('\\n- Not-Obese Patients are classified as {} & Obese Patients as {}.'.format(df['Obesity'].unique()[1],df['Obesity'].unique()[0]))\n",
    "print('\\n- Patients\\' Alcohol consumption is classified into {} as YES & {} as NO.'.format(df['Alcohol Consumption'].unique()[0],df['Alcohol Consumption'].unique()[1]))\n",
    "print('\\n- Patients\\' Exercise Hours are between {} hrs/week & {} hrs/week.'.format(df['Exercise Hours Per Week'].round(4).min(),df['Exercise Hours Per Week'].round(4).max()))\n",
    "print('\\n- Patients\\' Diets are clasified as {}, {}, & {}.'.format(df['Diet'].unique()[0],df['Diet'].unique()[1],df['Diet'].unique()[2]))\n",
    "print('\\n- Patients\\' Previous Heart Problems are classified into {} as YES & {} as NO.'.format(df['Previous Heart Problems'].unique()[1],df['Previous Heart Problems'].unique()[0]))\n",
    "print('\\n- Patients\\' Medication Use is classified into {} as YES & {} as NO.'.format(df['Medication Use'].unique()[0],df['Medication Use'].unique()[1]))\n",
    "print('\\n- Patients\\' Stress levels are between {} \"The Lowest\" & {} \"The Highest\".'.format(df['Stress Level'].min(),df['Stress Level'].max()))\n",
    "print('\\n- Patients\\' Sedentary Hours Per Day are between {} hrs/day & {} hrs/day.'.format(df['Sedentary Hours Per Day'].round(4).min(),df['Sedentary Hours Per Day'].round(4).max()))\n",
    "print('\\n- Patients\\' Incomes are between {} & {}.'.format(df['Income'].min(),df['Income'].max()))\n",
    "print('\\n- Patients\\' Body Mass Indecies (BMI) are between {} & {}.'.format(df['BMI'].round(4).min(),df['BMI'].round(4).max()))\n",
    "\n",
    "\n",
    "\n",
    "\n",
    "\n",
    "\n",
    "\n",
    "\n",
    "\n"
   ]
  },
  {
   "cell_type": "code",
   "execution_count": 19,
   "id": "60e53dc1-9889-4ad1-b0c6-47d623869df9",
   "metadata": {},
   "outputs": [
    {
     "data": {
      "text/plain": [
       "array([ 63, 333, 537, 591, 145, 746, 367, 398,  85, 729, 718, 166, 266,\n",
       "       547, 415, 172, 731, 204, 195, 428, 379, 364, 521, 486, 777,  53,\n",
       "       132, 407,  35, 424, 199, 560, 240, 798, 328, 382, 658, 430, 501,\n",
       "       465, 413,  44,  38, 347, 786,  98, 684, 776, 495,  56, 282, 163,\n",
       "       104, 340, 664, 352, 500, 313, 149, 158, 582, 449, 760, 542, 115,\n",
       "       606, 498, 749, 324, 363, 248, 121, 268,  61, 524, 156, 454,  65,\n",
       "       488, 421, 480, 702, 353, 312, 188, 171, 523, 218, 642, 666, 202,\n",
       "       673, 232, 131, 574, 290, 697, 533, 681, 274, 280, 396, 705,  51,\n",
       "       220,  72, 508, 485, 259, 781, 626, 389,  59, 309,  83, 160, 404,\n",
       "       123, 581, 649, 699, 765, 190, 654, 707, 639, 622, 261, 176, 124,\n",
       "       293,  50, 390, 596, 384, 237,  69,  47, 680, 629,  54, 754, 177,\n",
       "       432, 593, 461, 214, 168, 285, 431, 750, 669, 371, 490, 162, 119,\n",
       "       601, 154, 448, 445, 355, 761, 279, 744, 541, 791, 510, 709, 736,\n",
       "       652,  89, 722, 281, 613, 579, 108, 594, 710, 492, 111, 230, 763,\n",
       "       602,  55, 741, 701, 318, 252, 411, 213, 614, 133, 569, 617, 247,\n",
       "       588, 545, 391, 772, 258, 307, 607, 370, 186, 600, 211, 748, 283,\n",
       "       200, 735, 206, 395, 386, 675, 139, 648, 241, 531, 323, 208, 286,\n",
       "       192,  66, 467, 140, 152, 771, 778, 183, 603, 466, 734, 693, 519,\n",
       "        46,  36, 273, 269, 641,  92, 536, 544, 691, 360, 378, 752, 713,\n",
       "       362,  31, 482, 708, 762, 559, 142,  73, 159, 698, 187, 341, 136,\n",
       "       196, 344,  93, 245, 678, 688, 764, 387, 325, 223, 410, 416,  68,\n",
       "       337, 423,  60, 263, 339, 276, 420, 782, 635, 494, 703, 167, 769,\n",
       "       507, 609, 126, 287, 155, 632, 627, 457, 209, 242, 345, 470, 663,\n",
       "       221, 714, 197, 502, 558, 193, 621, 460, 228, 790, 785, 316, 227,\n",
       "       400, 633, 429, 453, 509,  43, 321, 546, 308, 289, 380, 676, 529,\n",
       "       314, 229, 231, 644, 783, 517, 446, 366, 792, 696, 742, 661, 215,\n",
       "       217, 127, 456, 637, 638, 157, 207, 745,  91, 106, 610, 350, 679,\n",
       "        67, 587, 481, 348, 766, 125,  62, 455,  84, 251, 471, 464, 191,\n",
       "       393, 689, 304, 540, 356, 336, 114, 740, 170, 483, 236, 433, 553,\n",
       "       656, 625,  57, 294, 799, 474, 773, 535, 458,  39, 512, 194, 599,\n",
       "       298, 700, 616, 385, 532, 439, 685, 437, 788,  48, 793, 473, 255,\n",
       "       695, 235, 103, 572, 759, 319, 310, 265, 189, 250,  64, 728, 711,\n",
       "        77,  96, 253, 301, 143, 747,  58, 110, 568, 256, 272, 174, 767,\n",
       "       584,  82, 408, 604, 392,  37, 499, 775, 557, 361, 297, 758, 334,\n",
       "       249, 112, 335, 550, 113, 354, 755, 645, 564, 452, 640, 450, 271,\n",
       "       233, 102, 479, 368, 487, 277, 789, 292, 571, 128, 182, 238, 438,\n",
       "       561, 605, 570, 146, 665, 141, 704, 784, 329,  34, 101,  30, 503,\n",
       "       562,  70, 657, 538, 349, 670, 275, 522, 153, 306,  87, 383, 358,\n",
       "       549, 556, 212,  99, 555, 768, 440, 565, 563, 623, 426, 504, 753,\n",
       "       618, 548, 552, 796, 687, 598, 459,  41, 402, 320, 634, 463, 583,\n",
       "       267, 506, 682, 620, 497, 397, 779, 647, 624, 677, 751, 120,  78,\n",
       "       715, 800, 716, 469, 288, 659, 122, 373, 342,  75, 376, 322, 129,\n",
       "       530, 496, 575, 590, 628, 317, 210,  86,  94, 315, 300, 527, 244,\n",
       "       144, 302,  71, 377, 472, 327, 326, 443, 589, 359, 284, 409, 412,\n",
       "       305, 399, 224,  74, 756, 720, 577, 375, 518, 619, 100, 683, 719,\n",
       "       612, 528, 388, 201, 374, 278, 539, 797, 381,  49, 369, 418, 476,\n",
       "       712, 706, 493, 551, 516, 270, 351, 403, 447, 743, 726, 515, 615,\n",
       "       636, 372, 406, 147, 724, 478, 425, 134, 631, 148,  76, 291,  95,\n",
       "        81, 138, 692, 180, 686, 205, 732, 653, 738, 401, 757,  45, 216,\n",
       "       405, 164, 173,  80, 161, 468, 419, 222, 422, 346, 303,  97, 489,\n",
       "       441, 592, 260, 674, 116, 646, 667, 175, 417, 135, 725,  79, 595,\n",
       "       717, 491, 226,  33,  52,  40, 597, 650, 643, 436, 330, 655, 795,\n",
       "       239, 442, 105, 526, 660, 505, 511, 567, 246, 630, 733, 343, 394,\n",
       "       107, 150, 723, 727, 668, 427, 151, 357, 434, 730, 181, 451, 608,\n",
       "       109, 514, 671,  88, 787, 234, 739, 576, 184, 444, 484, 737, 262,\n",
       "       338, 780, 219, 178, 299, 137, 672,  90, 694, 721, 520, 332, 566,\n",
       "       225, 257, 165,  32, 331, 543, 117, 311, 203, 435, 264, 365, 179,\n",
       "       586, 254, 185, 513, 651, 774, 525,  42, 475, 690, 198, 477, 534,\n",
       "       554, 169, 611, 462, 770, 296, 662, 585, 580, 414, 573, 578, 243,\n",
       "       794, 130, 295, 118], dtype=int64)"
      ]
     },
     "execution_count": 19,
     "metadata": {},
     "output_type": "execute_result"
    }
   ],
   "source": [
    "df['Triglycerides'].unique()"
   ]
  },
  {
   "cell_type": "code",
   "execution_count": null,
   "id": "ca7426e6-4631-4a10-9752-0626c697aec6",
   "metadata": {},
   "outputs": [],
   "source": []
  },
  {
   "cell_type": "code",
   "execution_count": 237,
   "id": "6f2057d4-e373-49be-a3e9-20ca3f830e8c",
   "metadata": {},
   "outputs": [
    {
     "data": {
      "text/plain": [
       "array([30.44981514, 34.97368488, 30.55424645, ..., 37.4655766 ,\n",
       "       28.60578881, 22.05704634])"
      ]
     },
     "execution_count": 237,
     "metadata": {},
     "output_type": "execute_result"
    }
   ],
   "source": [
    "\n",
    "\n",
    "\n",
    "df['Physical Activity Days Per Week'].unique()\n",
    "df['Sleep Hours Per Day']\n",
    "df['Country'].unique()\n",
    "df['Continent'].unique()\n",
    "df['Hemisphere'].unique()\n",
    "df['Heart Attack Risk'].unique()\n",
    "df['BMI'].unique()"
   ]
  },
  {
   "cell_type": "code",
   "execution_count": 151,
   "id": "73a98857-5875-47db-af9b-8daeed6ad13e",
   "metadata": {},
   "outputs": [],
   "source": [
    "df['h_rate']=np.where((220-df['Age'])*.6> df['Heart Rate'],'Low','Normal')\n",
    "df['h_rate']=np.where((220-df['Age'])*.8< df['Heart Rate'],'High',df['h_rate'])\n",
    "        "
   ]
  },
  {
   "cell_type": "code",
   "execution_count": 155,
   "id": "5d249507-c194-4282-8265-b50bde782969",
   "metadata": {},
   "outputs": [
    {
     "data": {
      "text/plain": [
       "array(['Low', 'Normal', 'High'], dtype=object)"
      ]
     },
     "execution_count": 155,
     "metadata": {},
     "output_type": "execute_result"
    }
   ],
   "source": [
    "df['h_rate'].unique()"
   ]
  },
  {
   "cell_type": "code",
   "execution_count": 157,
   "id": "e6398073-dcf1-4dc3-b763-b2d667e9868e",
   "metadata": {},
   "outputs": [
    {
     "name": "stdout",
     "output_type": "stream",
     "text": [
      "<class 'pandas.core.frame.DataFrame'>\n",
      "RangeIndex: 7010 entries, 0 to 7009\n",
      "Data columns (total 27 columns):\n",
      " #   Column                           Non-Null Count  Dtype  \n",
      "---  ------                           --------------  -----  \n",
      " 0   Patient ID                       7010 non-null   object \n",
      " 1   Age                              7010 non-null   int64  \n",
      " 2   Sex                              7010 non-null   object \n",
      " 3   Cholesterol                      7010 non-null   int64  \n",
      " 4   Blood Pressure                   7010 non-null   object \n",
      " 5   Heart Rate                       7010 non-null   int64  \n",
      " 6   Diabetes                         7010 non-null   int64  \n",
      " 7   Family History                   7010 non-null   int64  \n",
      " 8   Smoking                          7010 non-null   int64  \n",
      " 9   Obesity                          7010 non-null   int64  \n",
      " 10  Alcohol Consumption              7010 non-null   int64  \n",
      " 11  Exercise Hours Per Week          7010 non-null   float64\n",
      " 12  Diet                             7010 non-null   object \n",
      " 13  Previous Heart Problems          7010 non-null   int64  \n",
      " 14  Medication Use                   7010 non-null   int64  \n",
      " 15  Stress Level                     7010 non-null   int64  \n",
      " 16  Sedentary Hours Per Day          7010 non-null   float64\n",
      " 17  Income                           7010 non-null   int64  \n",
      " 18  BMI                              7010 non-null   float64\n",
      " 19  Triglycerides                    7010 non-null   int64  \n",
      " 20  Physical Activity Days Per Week  7010 non-null   int64  \n",
      " 21  Sleep Hours Per Day              7010 non-null   int64  \n",
      " 22  Country                          7010 non-null   object \n",
      " 23  Continent                        7010 non-null   object \n",
      " 24  Hemisphere                       7010 non-null   object \n",
      " 25  Heart Attack Risk                7010 non-null   int64  \n",
      " 26  h_rate                           7010 non-null   object \n",
      "dtypes: float64(3), int64(16), object(8)\n",
      "memory usage: 1.4+ MB\n"
     ]
    }
   ],
   "source": [
    "df.info()"
   ]
  },
  {
   "cell_type": "code",
   "execution_count": null,
   "id": "37f28b39-431b-493a-a01d-cef45b8c2330",
   "metadata": {},
   "outputs": [],
   "source": []
  }
 ],
 "metadata": {
  "kernelspec": {
   "display_name": "Python 3 (ipykernel)",
   "language": "python",
   "name": "python3"
  },
  "language_info": {
   "codemirror_mode": {
    "name": "ipython",
    "version": 3
   },
   "file_extension": ".py",
   "mimetype": "text/x-python",
   "name": "python",
   "nbconvert_exporter": "python",
   "pygments_lexer": "ipython3",
   "version": "3.11.4"
  },
  "widgets": {
   "application/vnd.jupyter.widget-state+json": {
    "state": {},
    "version_major": 2,
    "version_minor": 0
   }
  }
 },
 "nbformat": 4,
 "nbformat_minor": 5
}
