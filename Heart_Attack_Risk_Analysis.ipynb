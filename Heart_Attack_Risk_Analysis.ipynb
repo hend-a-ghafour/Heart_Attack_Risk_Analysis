{
 "cells": [
  {
   "cell_type": "code",
   "execution_count": 2,
   "id": "279f78cb-7dbb-44b2-be28-10ca3ca84746",
   "metadata": {},
   "outputs": [],
   "source": [
    "# Importing Liberaries:\n",
    "import pandas as pd \n",
    "import numpy as np \n",
    "import seaborn as sns\n",
    "import matplotlib as plt\n",
    "%matplotlib inline "
   ]
  },
  {
   "cell_type": "code",
   "execution_count": 14,
   "id": "ee4f951c-36e1-4c01-8342-51aea9d08b00",
   "metadata": {},
   "outputs": [],
   "source": [
    "# Loading Dataset\n",
    "df= pd.read_csv('heart_attack_risk_analysis.csv')\n"
   ]
  },
  {
   "cell_type": "markdown",
   "id": "c263bd5b-7acc-4ee5-8f85-a8c99b430461",
   "metadata": {},
   "source": [
    "# 1- Data Assessing:"
   ]
  },
  {
   "cell_type": "code",
   "execution_count": 75,
   "id": "87dead27-1478-41e3-a1ca-af631fa49426",
   "metadata": {},
   "outputs": [
    {
     "data": {
      "text/html": [
       "<div>\n",
       "<style scoped>\n",
       "    .dataframe tbody tr th:only-of-type {\n",
       "        vertical-align: middle;\n",
       "    }\n",
       "\n",
       "    .dataframe tbody tr th {\n",
       "        vertical-align: top;\n",
       "    }\n",
       "\n",
       "    .dataframe thead th {\n",
       "        text-align: right;\n",
       "    }\n",
       "</style>\n",
       "<table border=\"1\" class=\"dataframe\">\n",
       "  <thead>\n",
       "    <tr style=\"text-align: right;\">\n",
       "      <th></th>\n",
       "      <th>Patient ID</th>\n",
       "      <th>Age</th>\n",
       "      <th>Sex</th>\n",
       "      <th>Cholesterol</th>\n",
       "      <th>Blood Pressure</th>\n",
       "      <th>Heart Rate</th>\n",
       "      <th>Diabetes</th>\n",
       "      <th>Family History</th>\n",
       "      <th>Smoking</th>\n",
       "      <th>Obesity</th>\n",
       "      <th>Alcohol Consumption</th>\n",
       "      <th>Exercise Hours Per Week</th>\n",
       "      <th>Diet</th>\n",
       "      <th>Previous Heart Problems</th>\n",
       "      <th>Medication Use</th>\n",
       "    </tr>\n",
       "  </thead>\n",
       "  <tbody>\n",
       "    <tr>\n",
       "      <th>0</th>\n",
       "      <td>RDG0550</td>\n",
       "      <td>33</td>\n",
       "      <td>Male</td>\n",
       "      <td>200</td>\n",
       "      <td>129/90</td>\n",
       "      <td>48</td>\n",
       "      <td>0</td>\n",
       "      <td>1</td>\n",
       "      <td>1</td>\n",
       "      <td>1</td>\n",
       "      <td>1</td>\n",
       "      <td>7.807690</td>\n",
       "      <td>Unhealthy</td>\n",
       "      <td>0</td>\n",
       "      <td>1</td>\n",
       "    </tr>\n",
       "    <tr>\n",
       "      <th>1</th>\n",
       "      <td>NMA3851</td>\n",
       "      <td>56</td>\n",
       "      <td>Female</td>\n",
       "      <td>262</td>\n",
       "      <td>159/105</td>\n",
       "      <td>46</td>\n",
       "      <td>1</td>\n",
       "      <td>0</td>\n",
       "      <td>1</td>\n",
       "      <td>0</td>\n",
       "      <td>0</td>\n",
       "      <td>17.297628</td>\n",
       "      <td>Average</td>\n",
       "      <td>1</td>\n",
       "      <td>0</td>\n",
       "    </tr>\n",
       "    <tr>\n",
       "      <th>2</th>\n",
       "      <td>TUI5807</td>\n",
       "      <td>19</td>\n",
       "      <td>Female</td>\n",
       "      <td>140</td>\n",
       "      <td>161/109</td>\n",
       "      <td>54</td>\n",
       "      <td>0</td>\n",
       "      <td>1</td>\n",
       "      <td>0</td>\n",
       "      <td>0</td>\n",
       "      <td>1</td>\n",
       "      <td>8.695288</td>\n",
       "      <td>Average</td>\n",
       "      <td>1</td>\n",
       "      <td>1</td>\n",
       "    </tr>\n",
       "    <tr>\n",
       "      <th>3</th>\n",
       "      <td>YYT5016</td>\n",
       "      <td>50</td>\n",
       "      <td>Female</td>\n",
       "      <td>163</td>\n",
       "      <td>120/62</td>\n",
       "      <td>53</td>\n",
       "      <td>0</td>\n",
       "      <td>1</td>\n",
       "      <td>1</td>\n",
       "      <td>1</td>\n",
       "      <td>1</td>\n",
       "      <td>10.161587</td>\n",
       "      <td>Healthy</td>\n",
       "      <td>0</td>\n",
       "      <td>1</td>\n",
       "    </tr>\n",
       "    <tr>\n",
       "      <th>4</th>\n",
       "      <td>ZAC5937</td>\n",
       "      <td>89</td>\n",
       "      <td>Female</td>\n",
       "      <td>144</td>\n",
       "      <td>153/110</td>\n",
       "      <td>92</td>\n",
       "      <td>1</td>\n",
       "      <td>0</td>\n",
       "      <td>1</td>\n",
       "      <td>0</td>\n",
       "      <td>1</td>\n",
       "      <td>16.436787</td>\n",
       "      <td>Healthy</td>\n",
       "      <td>1</td>\n",
       "      <td>0</td>\n",
       "    </tr>\n",
       "  </tbody>\n",
       "</table>\n",
       "</div>"
      ],
      "text/plain": [
       "  Patient ID  Age     Sex  Cholesterol Blood Pressure  Heart Rate  Diabetes  \\\n",
       "0    RDG0550   33    Male          200         129/90          48         0   \n",
       "1    NMA3851   56  Female          262        159/105          46         1   \n",
       "2    TUI5807   19  Female          140        161/109          54         0   \n",
       "3    YYT5016   50  Female          163         120/62          53         0   \n",
       "4    ZAC5937   89  Female          144        153/110          92         1   \n",
       "\n",
       "   Family History  Smoking  Obesity  Alcohol Consumption  \\\n",
       "0               1        1        1                    1   \n",
       "1               0        1        0                    0   \n",
       "2               1        0        0                    1   \n",
       "3               1        1        1                    1   \n",
       "4               0        1        0                    1   \n",
       "\n",
       "   Exercise Hours Per Week       Diet  Previous Heart Problems  Medication Use  \n",
       "0                 7.807690  Unhealthy                        0               1  \n",
       "1                17.297628    Average                        1               0  \n",
       "2                 8.695288    Average                        1               1  \n",
       "3                10.161587    Healthy                        0               1  \n",
       "4                16.436787    Healthy                        1               0  "
      ]
     },
     "execution_count": 75,
     "metadata": {},
     "output_type": "execute_result"
    }
   ],
   "source": [
    "#Loading a sample of the 1st 15 coulmns:\n",
    "df.head().iloc[:,:15]"
   ]
  },
  {
   "cell_type": "code",
   "execution_count": 21,
   "id": "b8dc0484-4133-4c1b-80f5-c58f650c80fb",
   "metadata": {},
   "outputs": [
    {
     "data": {
      "text/html": [
       "<div>\n",
       "<style scoped>\n",
       "    .dataframe tbody tr th:only-of-type {\n",
       "        vertical-align: middle;\n",
       "    }\n",
       "\n",
       "    .dataframe tbody tr th {\n",
       "        vertical-align: top;\n",
       "    }\n",
       "\n",
       "    .dataframe thead th {\n",
       "        text-align: right;\n",
       "    }\n",
       "</style>\n",
       "<table border=\"1\" class=\"dataframe\">\n",
       "  <thead>\n",
       "    <tr style=\"text-align: right;\">\n",
       "      <th></th>\n",
       "      <th>Stress Level</th>\n",
       "      <th>Sedentary Hours Per Day</th>\n",
       "      <th>Income</th>\n",
       "      <th>BMI</th>\n",
       "      <th>Triglycerides</th>\n",
       "      <th>Physical Activity Days Per Week</th>\n",
       "      <th>Sleep Hours Per Day</th>\n",
       "      <th>Country</th>\n",
       "      <th>Continent</th>\n",
       "      <th>Hemisphere</th>\n",
       "      <th>Heart Attack Risk</th>\n",
       "    </tr>\n",
       "  </thead>\n",
       "  <tbody>\n",
       "    <tr>\n",
       "      <th>0</th>\n",
       "      <td>2</td>\n",
       "      <td>0.138443</td>\n",
       "      <td>184066</td>\n",
       "      <td>30.449815</td>\n",
       "      <td>63</td>\n",
       "      <td>6</td>\n",
       "      <td>7</td>\n",
       "      <td>Argentina</td>\n",
       "      <td>South America</td>\n",
       "      <td>Southern Hemisphere</td>\n",
       "      <td>1</td>\n",
       "    </tr>\n",
       "    <tr>\n",
       "      <th>1</th>\n",
       "      <td>8</td>\n",
       "      <td>0.369552</td>\n",
       "      <td>211755</td>\n",
       "      <td>34.973685</td>\n",
       "      <td>333</td>\n",
       "      <td>7</td>\n",
       "      <td>8</td>\n",
       "      <td>Nigeria</td>\n",
       "      <td>Africa</td>\n",
       "      <td>Northern Hemisphere</td>\n",
       "      <td>1</td>\n",
       "    </tr>\n",
       "    <tr>\n",
       "      <th>2</th>\n",
       "      <td>3</td>\n",
       "      <td>8.646334</td>\n",
       "      <td>252203</td>\n",
       "      <td>30.554246</td>\n",
       "      <td>537</td>\n",
       "      <td>2</td>\n",
       "      <td>10</td>\n",
       "      <td>Thailand</td>\n",
       "      <td>Asia</td>\n",
       "      <td>Northern Hemisphere</td>\n",
       "      <td>0</td>\n",
       "    </tr>\n",
       "    <tr>\n",
       "      <th>3</th>\n",
       "      <td>7</td>\n",
       "      <td>1.107884</td>\n",
       "      <td>121954</td>\n",
       "      <td>35.390265</td>\n",
       "      <td>591</td>\n",
       "      <td>0</td>\n",
       "      <td>9</td>\n",
       "      <td>Spain</td>\n",
       "      <td>Europe</td>\n",
       "      <td>Southern Hemisphere</td>\n",
       "      <td>1</td>\n",
       "    </tr>\n",
       "    <tr>\n",
       "      <th>4</th>\n",
       "      <td>1</td>\n",
       "      <td>1.337570</td>\n",
       "      <td>180121</td>\n",
       "      <td>39.575483</td>\n",
       "      <td>145</td>\n",
       "      <td>2</td>\n",
       "      <td>5</td>\n",
       "      <td>Germany</td>\n",
       "      <td>Europe</td>\n",
       "      <td>Northern Hemisphere</td>\n",
       "      <td>1</td>\n",
       "    </tr>\n",
       "  </tbody>\n",
       "</table>\n",
       "</div>"
      ],
      "text/plain": [
       "   Stress Level  Sedentary Hours Per Day  Income        BMI  Triglycerides  \\\n",
       "0             2                 0.138443  184066  30.449815             63   \n",
       "1             8                 0.369552  211755  34.973685            333   \n",
       "2             3                 8.646334  252203  30.554246            537   \n",
       "3             7                 1.107884  121954  35.390265            591   \n",
       "4             1                 1.337570  180121  39.575483            145   \n",
       "\n",
       "   Physical Activity Days Per Week  Sleep Hours Per Day    Country  \\\n",
       "0                                6                    7  Argentina   \n",
       "1                                7                    8    Nigeria   \n",
       "2                                2                   10   Thailand   \n",
       "3                                0                    9      Spain   \n",
       "4                                2                    5    Germany   \n",
       "\n",
       "       Continent           Hemisphere  Heart Attack Risk  \n",
       "0  South America  Southern Hemisphere                  1  \n",
       "1         Africa  Northern Hemisphere                  1  \n",
       "2           Asia  Northern Hemisphere                  0  \n",
       "3         Europe  Southern Hemisphere                  1  \n",
       "4         Europe  Northern Hemisphere                  1  "
      ]
     },
     "execution_count": 21,
     "metadata": {},
     "output_type": "execute_result"
    }
   ],
   "source": [
    "#Loading a sample of the last 15 coulmns:\n",
    "df.head().iloc[:,15:]"
   ]
  },
  {
   "cell_type": "code",
   "execution_count": 87,
   "id": "bd9681e0-df69-4953-9bd7-ad6110d3a9a3",
   "metadata": {},
   "outputs": [
    {
     "name": "stdout",
     "output_type": "stream",
     "text": [
      "<class 'pandas.core.frame.DataFrame'>\n",
      "RangeIndex: 7010 entries, 0 to 7009\n",
      "Data columns (total 26 columns):\n",
      " #   Column                           Non-Null Count  Dtype  \n",
      "---  ------                           --------------  -----  \n",
      " 0   Patient ID                       7010 non-null   object \n",
      " 1   Age                              7010 non-null   int64  \n",
      " 2   Sex                              7010 non-null   object \n",
      " 3   Cholesterol                      7010 non-null   int64  \n",
      " 4   Blood Pressure                   7010 non-null   object \n",
      " 5   Heart Rate                       7010 non-null   int64  \n",
      " 6   Diabetes                         7010 non-null   int64  \n",
      " 7   Family History                   7010 non-null   int64  \n",
      " 8   Smoking                          7010 non-null   int64  \n",
      " 9   Obesity                          7010 non-null   int64  \n",
      " 10  Alcohol Consumption              7010 non-null   int64  \n",
      " 11  Exercise Hours Per Week          7010 non-null   float64\n",
      " 12  Diet                             7010 non-null   object \n",
      " 13  Previous Heart Problems          7010 non-null   int64  \n",
      " 14  Medication Use                   7010 non-null   int64  \n",
      " 15  Stress Level                     7010 non-null   int64  \n",
      " 16  Sedentary Hours Per Day          7010 non-null   float64\n",
      " 17  Income                           7010 non-null   int64  \n",
      " 18  BMI                              7010 non-null   float64\n",
      " 19  Triglycerides                    7010 non-null   int64  \n",
      " 20  Physical Activity Days Per Week  7010 non-null   int64  \n",
      " 21  Sleep Hours Per Day              7010 non-null   int64  \n",
      " 22  Country                          7010 non-null   object \n",
      " 23  Continent                        7010 non-null   object \n",
      " 24  Hemisphere                       7010 non-null   object \n",
      " 25  Heart Attack Risk                7010 non-null   int64  \n",
      "dtypes: float64(3), int64(16), object(7)\n",
      "memory usage: 1.4+ MB\n",
      "None\n"
     ]
    }
   ],
   "source": [
    "print(df.info())\n"
   ]
  },
  {
   "cell_type": "code",
   "execution_count": 89,
   "id": "307d5806-5b45-45ea-ad13-a57666f300d4",
   "metadata": {},
   "outputs": [
    {
     "name": "stdout",
     "output_type": "stream",
     "text": [
      "General Charcteristics of the dataset:\n",
      "\n",
      "  - The dataset has a shape of : 7010 Rows and 26 Columns\n",
      "\n",
      "  - No NULL values in this dataset\n",
      "\n",
      "  - No Duplicates in this dataset\n",
      "\n"
     ]
    }
   ],
   "source": [
    "# General Charcteristics:\n",
    "print('General Charcteristics of the dataset:\\n')\n",
    "\n",
    "# Shape:\n",
    "print(f'  - The dataset has a shape of : {df.shape[0]} Rows and {df.shape[1]} Columns\\n')\n",
    "\n",
    "# Null Values:\n",
    "nulls= df.isna().sum().sum()\n",
    "if nulls == 0:\n",
    "    print('  - No NULL values in this dataset\\n')\n",
    "else:\n",
    "    print(f'  - This dataset contains {nulls} Null Values\\n')\n",
    "\n",
    "# Duplicates:\n",
    "duplicates = df.duplicated().sum()\n",
    "if duplicates == 0:\n",
    "    print('  - No Duplicates in this dataset\\n')\n",
    "else:\n",
    "    print(f'  - {duplicates} Rows are Duplicated\\n')"
   ]
  },
  {
   "cell_type": "code",
   "execution_count": 81,
   "id": "d5e44e9f-664a-4a3a-9b6c-1462e8363525",
   "metadata": {
    "scrolled": true
   },
   "outputs": [
    {
     "name": "stdout",
     "output_type": "stream",
     "text": [
      "The number of unique value in each column:\n",
      "Patient ID                         7010\n",
      "Age                                  73\n",
      "Sex                                   2\n",
      "Cholesterol                         281\n",
      "Blood Pressure                     3590\n",
      "Heart Rate                           71\n",
      "Diabetes                              2\n",
      "Family History                        2\n",
      "Smoking                               2\n",
      "Obesity                               2\n",
      "Alcohol Consumption                   2\n",
      "Exercise Hours Per Week            7010\n",
      "Diet                                  3\n",
      "Previous Heart Problems               2\n",
      "Medication Use                        2\n",
      "Stress Level                         10\n",
      "Sedentary Hours Per Day            7010\n",
      "Income                             6921\n",
      "BMI                                7010\n",
      "Triglycerides                       771\n",
      "Physical Activity Days Per Week       8\n",
      "Sleep Hours Per Day                   7\n",
      "Country                              20\n",
      "Continent                             6\n",
      "Hemisphere                            2\n",
      "Heart Attack Risk                     2\n",
      "dtype: int64\n"
     ]
    }
   ],
   "source": [
    "# Number of unique values:\n",
    "print(f'The number of unique value in each column:\\n{df.nunique()}')"
   ]
  },
  {
   "cell_type": "code",
   "execution_count": 117,
   "id": "895fcd36-1636-45ba-b43b-72a322227f8b",
   "metadata": {},
   "outputs": [
    {
     "name": "stdout",
     "output_type": "stream",
     "text": [
      "- Total number of patients: 7010 Patient\n",
      "- Ages are between 18 and 90 years\n",
      "- Patients are classified into Males and Females\n",
      "- Cholesterol Levels are between 120mg/dL and 400mg/dL\n"
     ]
    }
   ],
   "source": [
    "print('- Total number of patients: {} Patient'.format(df['Patient ID'].count()))\n",
    "print('- Ages are between {} and {} years'.format(df['Age'].min(),df['Age'].max()))\n",
    "print('- Patients are classified into {}s and {}s'.format(df['Sex'].unique()[0],df['Sex'].unique()[1]))\n",
    "print('- Cholesterol Levels are between {}mg/dL and {}mg/dL'.format(df['Cholesterol'].min(),df['Cholesterol'].max()))"
   ]
  },
  {
   "cell_type": "code",
   "execution_count": 105,
   "id": "14516f48-ba49-42fa-abdc-ec1d5b628353",
   "metadata": {},
   "outputs": [
    {
     "name": "stdout",
     "output_type": "stream",
     "text": [
      "- \"Gender\" Categories: ['Male' 'Female']\n"
     ]
    }
   ],
   "source": []
  },
  {
   "cell_type": "code",
   "execution_count": null,
   "id": "60e53dc1-9889-4ad1-b0c6-47d623869df9",
   "metadata": {},
   "outputs": [],
   "source": []
  },
  {
   "cell_type": "code",
   "execution_count": 123,
   "id": "ca7426e6-4631-4a10-9752-0626c697aec6",
   "metadata": {},
   "outputs": [
    {
     "data": {
      "text/plain": [
       "'99/98'"
      ]
     },
     "execution_count": 123,
     "metadata": {},
     "output_type": "execute_result"
    }
   ],
   "source": [
    "df['Blood Pressure'].max()"
   ]
  },
  {
   "cell_type": "code",
   "execution_count": 161,
   "id": "6f2057d4-e373-49be-a3e9-20ca3f830e8c",
   "metadata": {},
   "outputs": [
    {
     "data": {
      "text/plain": [
       "array([30.44981514, 34.97368488, 30.55424645, ..., 37.4655766 ,\n",
       "       28.60578881, 22.05704634])"
      ]
     },
     "execution_count": 161,
     "metadata": {},
     "output_type": "execute_result"
    }
   ],
   "source": [
    "\n",
    "\n",
    "\n",
    "df['Heart Rate'].unique()\n",
    "df['Diabetes'].unique()\n",
    "df['Family History'].unique()\n",
    "df['Smoking'].unique()\n",
    "df['Obesity'].unique()\n",
    "df['Alcohol Consumption'].unique()\n",
    "df['Exercise Hours Per Week'].unique()\n",
    "df['Diet'].unique()\n",
    "df['Previous Heart Problems'].unique()\n",
    "df['Medication Use'].unique()\n",
    "df['Stress Level'].unique()\n",
    "df['Sedentary Hours Per Day'].unique()\n",
    "df['Income'].unique()\n",
    "df['BMI'].unique()\n",
    "df['Triglycerides'].unique()\n",
    "df['Physical Activity Days Per Week'].unique()\n",
    "df['Sleep Hours Per Day']\n",
    "df['Country'].unique()\n",
    "df['Continent'].unique()\n",
    "df['Hemisphere'].unique()\n",
    "df['Heart Attack Risk'].unique()\n",
    "df['BMI'].unique()"
   ]
  },
  {
   "cell_type": "code",
   "execution_count": 151,
   "id": "73a98857-5875-47db-af9b-8daeed6ad13e",
   "metadata": {},
   "outputs": [],
   "source": [
    "df['h_rate']=np.where((220-df['Age'])*.6> df['Heart Rate'],'Low','Normal')\n",
    "df['h_rate']=np.where((220-df['Age'])*.8< df['Heart Rate'],'High',df['h_rate'])\n",
    "        "
   ]
  },
  {
   "cell_type": "code",
   "execution_count": 155,
   "id": "5d249507-c194-4282-8265-b50bde782969",
   "metadata": {},
   "outputs": [
    {
     "data": {
      "text/plain": [
       "array(['Low', 'Normal', 'High'], dtype=object)"
      ]
     },
     "execution_count": 155,
     "metadata": {},
     "output_type": "execute_result"
    }
   ],
   "source": [
    "df['h_rate'].unique()"
   ]
  },
  {
   "cell_type": "code",
   "execution_count": 157,
   "id": "e6398073-dcf1-4dc3-b763-b2d667e9868e",
   "metadata": {},
   "outputs": [
    {
     "name": "stdout",
     "output_type": "stream",
     "text": [
      "<class 'pandas.core.frame.DataFrame'>\n",
      "RangeIndex: 7010 entries, 0 to 7009\n",
      "Data columns (total 27 columns):\n",
      " #   Column                           Non-Null Count  Dtype  \n",
      "---  ------                           --------------  -----  \n",
      " 0   Patient ID                       7010 non-null   object \n",
      " 1   Age                              7010 non-null   int64  \n",
      " 2   Sex                              7010 non-null   object \n",
      " 3   Cholesterol                      7010 non-null   int64  \n",
      " 4   Blood Pressure                   7010 non-null   object \n",
      " 5   Heart Rate                       7010 non-null   int64  \n",
      " 6   Diabetes                         7010 non-null   int64  \n",
      " 7   Family History                   7010 non-null   int64  \n",
      " 8   Smoking                          7010 non-null   int64  \n",
      " 9   Obesity                          7010 non-null   int64  \n",
      " 10  Alcohol Consumption              7010 non-null   int64  \n",
      " 11  Exercise Hours Per Week          7010 non-null   float64\n",
      " 12  Diet                             7010 non-null   object \n",
      " 13  Previous Heart Problems          7010 non-null   int64  \n",
      " 14  Medication Use                   7010 non-null   int64  \n",
      " 15  Stress Level                     7010 non-null   int64  \n",
      " 16  Sedentary Hours Per Day          7010 non-null   float64\n",
      " 17  Income                           7010 non-null   int64  \n",
      " 18  BMI                              7010 non-null   float64\n",
      " 19  Triglycerides                    7010 non-null   int64  \n",
      " 20  Physical Activity Days Per Week  7010 non-null   int64  \n",
      " 21  Sleep Hours Per Day              7010 non-null   int64  \n",
      " 22  Country                          7010 non-null   object \n",
      " 23  Continent                        7010 non-null   object \n",
      " 24  Hemisphere                       7010 non-null   object \n",
      " 25  Heart Attack Risk                7010 non-null   int64  \n",
      " 26  h_rate                           7010 non-null   object \n",
      "dtypes: float64(3), int64(16), object(8)\n",
      "memory usage: 1.4+ MB\n"
     ]
    }
   ],
   "source": [
    "df.info()"
   ]
  },
  {
   "cell_type": "code",
   "execution_count": null,
   "id": "37f28b39-431b-493a-a01d-cef45b8c2330",
   "metadata": {},
   "outputs": [],
   "source": []
  }
 ],
 "metadata": {
  "kernelspec": {
   "display_name": "Python 3 (ipykernel)",
   "language": "python",
   "name": "python3"
  },
  "language_info": {
   "codemirror_mode": {
    "name": "ipython",
    "version": 3
   },
   "file_extension": ".py",
   "mimetype": "text/x-python",
   "name": "python",
   "nbconvert_exporter": "python",
   "pygments_lexer": "ipython3",
   "version": "3.11.4"
  },
  "widgets": {
   "application/vnd.jupyter.widget-state+json": {
    "state": {},
    "version_major": 2,
    "version_minor": 0
   }
  }
 },
 "nbformat": 4,
 "nbformat_minor": 5
}
